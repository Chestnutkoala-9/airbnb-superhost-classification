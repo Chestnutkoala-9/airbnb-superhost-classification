{
 "cells": [
  {
   "cell_type": "markdown",
   "id": "095a162b",
   "metadata": {},
   "source": [
    "### Import packages"
   ]
  },
  {
   "cell_type": "code",
   "execution_count": 1,
   "id": "3f84b7ca",
   "metadata": {},
   "outputs": [],
   "source": [
    "import pandas as pd\n",
    "import numpy as np\n",
    "import re\n",
    "import nltk\n",
    "from scipy import sparse\n",
    "from nltk.tokenize import word_tokenize\n",
    "from nltk.stem import PorterStemmer\n",
    "from nltk.corpus import stopwords\n",
    "from sklearn.feature_extraction.text import TfidfVectorizer\n",
    "from scipy.spatial.distance import pdist\n",
    "from scipy.cluster.hierarchy import ward, dendrogram\n",
    "import matplotlib.pyplot as plt\n",
    "from sklearn.cluster import KMeans\n",
    "from scipy.sparse import hstack"
   ]
  },
  {
   "cell_type": "code",
   "execution_count": 2,
   "id": "6677c9d1",
   "metadata": {},
   "outputs": [],
   "source": [
    "import warnings\n",
    "warnings.filterwarnings('ignore')"
   ]
  },
  {
   "cell_type": "markdown",
   "id": "70d1ce75",
   "metadata": {},
   "source": [
    "### Loading csv file"
   ]
  },
  {
   "cell_type": "code",
   "execution_count": 56,
   "id": "b4692963",
   "metadata": {},
   "outputs": [],
   "source": [
    "# listing csv file\n",
    "listing_df = pd.read_csv(\"listings-details.csv\")\n",
    "listing_df = listing_df[:1000]\n",
    "host_desc = listing_df[['id', 'description', 'amenities', 'neighborhood_overview', 'host_about','host_is_superhost']]\n",
    "\n",
    "# Concatenate all textual features provided by the owner\n",
    "host_desc['desc'] = host_desc['description'] + ' ' + host_desc['amenities'] + ' ' + host_desc['neighborhood_overview'] + ' ' + host_desc['host_about']\n",
    "\n",
    "# Loading csv file\n",
    "reviews = pd.read_csv(\"reviews.csv\")\n",
    "reviews['comments'] = reviews['comments'].astype(str)  \n",
    "\n",
    "# Concatenate customer comments in a row by listing's id\n",
    "concat_reviews = reviews.groupby('listing_id')['comments'].apply(lambda x: ' '.join(x)).reset_index()\n",
    "concat_reviews = concat_reviews[:2000]\n"
   ]
  },
  {
   "cell_type": "code",
   "execution_count": 4,
   "id": "207e0d3f",
   "metadata": {},
   "outputs": [
    {
     "data": {
      "text/plain": [
       "Index(['id', 'listing_url', 'scrape_id', 'last_scraped', 'name', 'description',\n",
       "       'neighborhood_overview', 'picture_url', 'host_id', 'host_url',\n",
       "       'host_name', 'host_since', 'host_location', 'host_about',\n",
       "       'host_response_time', 'host_response_rate', 'host_acceptance_rate',\n",
       "       'host_is_superhost', 'host_thumbnail_url', 'host_picture_url',\n",
       "       'host_neighbourhood', 'host_listings_count',\n",
       "       'host_total_listings_count', 'host_verifications',\n",
       "       'host_has_profile_pic', 'host_identity_verified', 'neighbourhood',\n",
       "       'neighbourhood_cleansed', 'neighbourhood_group_cleansed', 'latitude',\n",
       "       'longitude', 'property_type', 'room_type', 'accommodates', 'bathrooms',\n",
       "       'bathrooms_text', 'bedrooms', 'beds', 'amenities', 'price',\n",
       "       'minimum_nights', 'maximum_nights', 'minimum_minimum_nights',\n",
       "       'maximum_minimum_nights', 'minimum_maximum_nights',\n",
       "       'maximum_maximum_nights', 'minimum_nights_avg_ntm',\n",
       "       'maximum_nights_avg_ntm', 'calendar_updated', 'has_availability',\n",
       "       'availability_30', 'availability_60', 'availability_90',\n",
       "       'availability_365', 'calendar_last_scraped', 'number_of_reviews',\n",
       "       'number_of_reviews_ltm', 'number_of_reviews_l30d', 'first_review',\n",
       "       'last_review', 'review_scores_rating', 'review_scores_accuracy',\n",
       "       'review_scores_cleanliness', 'review_scores_checkin',\n",
       "       'review_scores_communication', 'review_scores_location',\n",
       "       'review_scores_value', 'license', 'instant_bookable',\n",
       "       'calculated_host_listings_count',\n",
       "       'calculated_host_listings_count_entire_homes',\n",
       "       'calculated_host_listings_count_private_rooms',\n",
       "       'calculated_host_listings_count_shared_rooms', 'reviews_per_month'],\n",
       "      dtype='object')"
      ]
     },
     "execution_count": 4,
     "metadata": {},
     "output_type": "execute_result"
    }
   ],
   "source": [
    "host_df.columns"
   ]
  },
  {
   "cell_type": "code",
   "execution_count": 5,
   "id": "10d183e7",
   "metadata": {},
   "outputs": [
    {
     "data": {
      "text/html": [
       "<div>\n",
       "<style scoped>\n",
       "    .dataframe tbody tr th:only-of-type {\n",
       "        vertical-align: middle;\n",
       "    }\n",
       "\n",
       "    .dataframe tbody tr th {\n",
       "        vertical-align: top;\n",
       "    }\n",
       "\n",
       "    .dataframe thead th {\n",
       "        text-align: right;\n",
       "    }\n",
       "</style>\n",
       "<table border=\"1\" class=\"dataframe\">\n",
       "  <thead>\n",
       "    <tr style=\"text-align: right;\">\n",
       "      <th></th>\n",
       "      <th>id</th>\n",
       "      <th>description</th>\n",
       "      <th>amenities</th>\n",
       "      <th>neighborhood_overview</th>\n",
       "      <th>host_about</th>\n",
       "      <th>host_is_superhost</th>\n",
       "      <th>desc</th>\n",
       "    </tr>\n",
       "  </thead>\n",
       "  <tbody>\n",
       "    <tr>\n",
       "      <th>0</th>\n",
       "      <td>2595</td>\n",
       "      <td>Beautiful, spacious skylit studio in the heart...</td>\n",
       "      <td>[\"Extra pillows and blankets\", \"Baking sheet\",...</td>\n",
       "      <td>Centrally located in the heart of Manhattan ju...</td>\n",
       "      <td>A New Yorker since 2000! My passion is creatin...</td>\n",
       "      <td>f</td>\n",
       "      <td>Beautiful, spacious skylit studio in the heart...</td>\n",
       "    </tr>\n",
       "    <tr>\n",
       "      <th>1</th>\n",
       "      <td>3831</td>\n",
       "      <td>Enjoy 500 s.f. top floor in 1899 brownstone, w...</td>\n",
       "      <td>[\"Extra pillows and blankets\", \"Luggage dropof...</td>\n",
       "      <td>Just the right mix of urban center and local n...</td>\n",
       "      <td>Laid-back Native New Yorker (formerly bi-coast...</td>\n",
       "      <td>f</td>\n",
       "      <td>Enjoy 500 s.f. top floor in 1899 brownstone, w...</td>\n",
       "    </tr>\n",
       "    <tr>\n",
       "      <th>2</th>\n",
       "      <td>5121</td>\n",
       "      <td>&lt;b&gt;The space&lt;/b&gt;&lt;br /&gt;HELLO EVERYONE AND THANK...</td>\n",
       "      <td>[\"Kitchen\", \"Long term stays allowed\", \"Wifi\",...</td>\n",
       "      <td>NaN</td>\n",
       "      <td>I am an artist(painter, filmmaker) and curato...</td>\n",
       "      <td>f</td>\n",
       "      <td>NaN</td>\n",
       "    </tr>\n",
       "    <tr>\n",
       "      <th>3</th>\n",
       "      <td>5136</td>\n",
       "      <td>We welcome you to stay in our lovely 2 br dupl...</td>\n",
       "      <td>[\"Kitchen\", \"BBQ grill\", \"Cable TV\", \"Carbon m...</td>\n",
       "      <td>NaN</td>\n",
       "      <td>Rebecca is an artist/designer, and Henoch is i...</td>\n",
       "      <td>f</td>\n",
       "      <td>NaN</td>\n",
       "    </tr>\n",
       "    <tr>\n",
       "      <th>4</th>\n",
       "      <td>5178</td>\n",
       "      <td>Please don’t expect the luxury here just a bas...</td>\n",
       "      <td>[\"Room-darkening shades\", \"Lock on bedroom doo...</td>\n",
       "      <td>Theater district, many restaurants around here.</td>\n",
       "      <td>I used to work for a financial industry but no...</td>\n",
       "      <td>f</td>\n",
       "      <td>Please don’t expect the luxury here just a bas...</td>\n",
       "    </tr>\n",
       "  </tbody>\n",
       "</table>\n",
       "</div>"
      ],
      "text/plain": [
       "     id                                        description  \\\n",
       "0  2595  Beautiful, spacious skylit studio in the heart...   \n",
       "1  3831  Enjoy 500 s.f. top floor in 1899 brownstone, w...   \n",
       "2  5121  <b>The space</b><br />HELLO EVERYONE AND THANK...   \n",
       "3  5136  We welcome you to stay in our lovely 2 br dupl...   \n",
       "4  5178  Please don’t expect the luxury here just a bas...   \n",
       "\n",
       "                                           amenities  \\\n",
       "0  [\"Extra pillows and blankets\", \"Baking sheet\",...   \n",
       "1  [\"Extra pillows and blankets\", \"Luggage dropof...   \n",
       "2  [\"Kitchen\", \"Long term stays allowed\", \"Wifi\",...   \n",
       "3  [\"Kitchen\", \"BBQ grill\", \"Cable TV\", \"Carbon m...   \n",
       "4  [\"Room-darkening shades\", \"Lock on bedroom doo...   \n",
       "\n",
       "                               neighborhood_overview  \\\n",
       "0  Centrally located in the heart of Manhattan ju...   \n",
       "1  Just the right mix of urban center and local n...   \n",
       "2                                                NaN   \n",
       "3                                                NaN   \n",
       "4    Theater district, many restaurants around here.   \n",
       "\n",
       "                                          host_about host_is_superhost  \\\n",
       "0  A New Yorker since 2000! My passion is creatin...                 f   \n",
       "1  Laid-back Native New Yorker (formerly bi-coast...                 f   \n",
       "2   I am an artist(painter, filmmaker) and curato...                 f   \n",
       "3  Rebecca is an artist/designer, and Henoch is i...                 f   \n",
       "4  I used to work for a financial industry but no...                 f   \n",
       "\n",
       "                                                desc  \n",
       "0  Beautiful, spacious skylit studio in the heart...  \n",
       "1  Enjoy 500 s.f. top floor in 1899 brownstone, w...  \n",
       "2                                                NaN  \n",
       "3                                                NaN  \n",
       "4  Please don’t expect the luxury here just a bas...  "
      ]
     },
     "execution_count": 5,
     "metadata": {},
     "output_type": "execute_result"
    }
   ],
   "source": [
    "host_desc.head()"
   ]
  },
  {
   "cell_type": "code",
   "execution_count": 6,
   "id": "3c4e7e28",
   "metadata": {},
   "outputs": [
    {
     "data": {
      "text/html": [
       "<div>\n",
       "<style scoped>\n",
       "    .dataframe tbody tr th:only-of-type {\n",
       "        vertical-align: middle;\n",
       "    }\n",
       "\n",
       "    .dataframe tbody tr th {\n",
       "        vertical-align: top;\n",
       "    }\n",
       "\n",
       "    .dataframe thead th {\n",
       "        text-align: right;\n",
       "    }\n",
       "</style>\n",
       "<table border=\"1\" class=\"dataframe\">\n",
       "  <thead>\n",
       "    <tr style=\"text-align: right;\">\n",
       "      <th></th>\n",
       "      <th>listing_id</th>\n",
       "      <th>comments</th>\n",
       "    </tr>\n",
       "  </thead>\n",
       "  <tbody>\n",
       "    <tr>\n",
       "      <th>0</th>\n",
       "      <td>2595</td>\n",
       "      <td>Notre séjour de trois nuits.\\r&lt;br/&gt;Nous avons ...</td>\n",
       "    </tr>\n",
       "    <tr>\n",
       "      <th>1</th>\n",
       "      <td>3831</td>\n",
       "      <td>lisa is a wonderful, kind and thoughtful host....</td>\n",
       "    </tr>\n",
       "    <tr>\n",
       "      <th>2</th>\n",
       "      <td>5121</td>\n",
       "      <td>Simple place, super nice guy. Great guy with a...</td>\n",
       "    </tr>\n",
       "    <tr>\n",
       "      <th>3</th>\n",
       "      <td>5136</td>\n",
       "      <td>My family had a wonderful stay at Rebecca and ...</td>\n",
       "    </tr>\n",
       "    <tr>\n",
       "      <th>4</th>\n",
       "      <td>5178</td>\n",
       "      <td>MR. Kasai was a grreat host , very helpful and...</td>\n",
       "    </tr>\n",
       "  </tbody>\n",
       "</table>\n",
       "</div>"
      ],
      "text/plain": [
       "   listing_id                                           comments\n",
       "0        2595  Notre séjour de trois nuits.\\r<br/>Nous avons ...\n",
       "1        3831  lisa is a wonderful, kind and thoughtful host....\n",
       "2        5121  Simple place, super nice guy. Great guy with a...\n",
       "3        5136  My family had a wonderful stay at Rebecca and ...\n",
       "4        5178  MR. Kasai was a grreat host , very helpful and..."
      ]
     },
     "execution_count": 6,
     "metadata": {},
     "output_type": "execute_result"
    }
   ],
   "source": [
    "concat_reviews.head()"
   ]
  },
  {
   "cell_type": "markdown",
   "id": "e751302a",
   "metadata": {},
   "source": [
    "I will first analyze the textual features before diving into other numerical characteristics."
   ]
  },
  {
   "cell_type": "code",
   "execution_count": 57,
   "id": "8ac543c8",
   "metadata": {},
   "outputs": [],
   "source": [
    "merged_df = host_desc.merge(concat_reviews, left_on='id', right_on='listing_id', how='inner')\n",
    "\n",
    "# Concatenate all textual features for tfidf calculation\n",
    "merged_df['text'] = merged_df['desc'] + ' ' + merged_df['comments']\n",
    "merged_df = merged_df [['id','text','host_is_superhost']]\n",
    "merged_df.dropna(inplace=True)\n"
   ]
  },
  {
   "cell_type": "code",
   "execution_count": 58,
   "id": "76afcff2",
   "metadata": {},
   "outputs": [
    {
     "data": {
      "text/html": [
       "<div>\n",
       "<style scoped>\n",
       "    .dataframe tbody tr th:only-of-type {\n",
       "        vertical-align: middle;\n",
       "    }\n",
       "\n",
       "    .dataframe tbody tr th {\n",
       "        vertical-align: top;\n",
       "    }\n",
       "\n",
       "    .dataframe thead th {\n",
       "        text-align: right;\n",
       "    }\n",
       "</style>\n",
       "<table border=\"1\" class=\"dataframe\">\n",
       "  <thead>\n",
       "    <tr style=\"text-align: right;\">\n",
       "      <th></th>\n",
       "      <th>id</th>\n",
       "      <th>text</th>\n",
       "      <th>host_is_superhost</th>\n",
       "    </tr>\n",
       "  </thead>\n",
       "  <tbody>\n",
       "    <tr>\n",
       "      <th>0</th>\n",
       "      <td>2595</td>\n",
       "      <td>Beautiful, spacious skylit studio in the heart...</td>\n",
       "      <td>f</td>\n",
       "    </tr>\n",
       "    <tr>\n",
       "      <th>1</th>\n",
       "      <td>3831</td>\n",
       "      <td>Enjoy 500 s.f. top floor in 1899 brownstone, w...</td>\n",
       "      <td>f</td>\n",
       "    </tr>\n",
       "    <tr>\n",
       "      <th>4</th>\n",
       "      <td>5178</td>\n",
       "      <td>Please don’t expect the luxury here just a bas...</td>\n",
       "      <td>f</td>\n",
       "    </tr>\n",
       "    <tr>\n",
       "      <th>5</th>\n",
       "      <td>5203</td>\n",
       "      <td>Our best guests are seeking a safe, clean, spa...</td>\n",
       "      <td>f</td>\n",
       "    </tr>\n",
       "    <tr>\n",
       "      <th>6</th>\n",
       "      <td>5803</td>\n",
       "      <td>Beautiful house, gorgeous garden, patio, cozy ...</td>\n",
       "      <td>t</td>\n",
       "    </tr>\n",
       "  </tbody>\n",
       "</table>\n",
       "</div>"
      ],
      "text/plain": [
       "     id                                               text host_is_superhost\n",
       "0  2595  Beautiful, spacious skylit studio in the heart...                 f\n",
       "1  3831  Enjoy 500 s.f. top floor in 1899 brownstone, w...                 f\n",
       "4  5178  Please don’t expect the luxury here just a bas...                 f\n",
       "5  5203  Our best guests are seeking a safe, clean, spa...                 f\n",
       "6  5803  Beautiful house, gorgeous garden, patio, cozy ...                 t"
      ]
     },
     "execution_count": 58,
     "metadata": {},
     "output_type": "execute_result"
    }
   ],
   "source": [
    "merged_df.head()"
   ]
  },
  {
   "cell_type": "code",
   "execution_count": 7,
   "id": "4f19ac08",
   "metadata": {},
   "outputs": [],
   "source": [
    "# Text preprocessing\n",
    "stop_words = set(stopwords.words('english'))\n",
    "stemmer = PorterStemmer()\n"
   ]
  },
  {
   "cell_type": "code",
   "execution_count": 8,
   "id": "41117159",
   "metadata": {},
   "outputs": [],
   "source": [
    "def preprocess_text(text):\n",
    "    if isinstance(text, str):\n",
    "        text = text.lower()\n",
    "        text = re.sub(r'[^\\w\\s]', '', text)\n",
    "        text = re.sub(r'\\d+', '', text)\n",
    "        text = re.sub(r'<.*?>', '', text)\n",
    "        text = re.sub(r',:\\'!\"', '', text)\n",
    "    else:\n",
    "        text = ''\n",
    "    return text\n",
    "\n",
    "def tokenize_and_stem(text):\n",
    "    tokens = word_tokenize(text)\n",
    "    tokens = [stemmer.stem(token) for token in tokens]\n",
    "    return tokens"
   ]
  },
  {
   "cell_type": "code",
   "execution_count": 59,
   "id": "4cf3b990",
   "metadata": {},
   "outputs": [],
   "source": [
    "# Preprocess text\n",
    "merged_df['text'] = merged_df['text'].apply(preprocess_text)"
   ]
  },
  {
   "cell_type": "code",
   "execution_count": 60,
   "id": "f61d174f",
   "metadata": {},
   "outputs": [],
   "source": [
    "# TF-IDF vectorization\n",
    "vectorizer = TfidfVectorizer(tokenizer=tokenize_and_stem, stop_words=stop_words)\n",
    "tfidf_matrix = vectorizer.fit_transform(merged_df['text'])\n",
    "tfidf_df = pd.DataFrame(tfidf_matrix.toarray(), columns=vectorizer.get_feature_names())\n",
    "\n",
    "# Calculate TF-IDF\n",
    "tf = tfidf_df.div(tfidf_df.max(axis=1), axis=0)\n",
    "idf = np.log(tfidf_df.shape[0] / (tfidf_df != 0).sum(axis=0))\n",
    "tfidf_matrix = tf.multiply(idf.values)\n",
    "tfidf_df = pd.DataFrame(tfidf_matrix, columns=vectorizer.get_feature_names())\n"
   ]
  },
  {
   "cell_type": "code",
   "execution_count": 61,
   "id": "f8ef5f45",
   "metadata": {},
   "outputs": [
    {
     "data": {
      "text/plain": [
       "(558, 59961)"
      ]
     },
     "execution_count": 61,
     "metadata": {},
     "output_type": "execute_result"
    }
   ],
   "source": [
    "tfidf_df.shape"
   ]
  },
  {
   "cell_type": "code",
   "execution_count": 66,
   "id": "8dd569ef",
   "metadata": {},
   "outputs": [],
   "source": [
    "tfidf_df = tfidf_df.drop('id', axis=1)"
   ]
  },
  {
   "cell_type": "code",
   "execution_count": 62,
   "id": "d023a0aa",
   "metadata": {},
   "outputs": [],
   "source": [
    "#numerical features that include host and house characteristics\n",
    "#exclude highly correlated ones\n",
    "additional = host_df[['id','bedrooms','host_response_rate', \\\n",
    "             'host_acceptance_rate','host_listings_count','minimum_nights', 'maximum_nights',\\\n",
    "             'availability_365','number_of_reviews_ltm','price','review_scores_rating']]\n"
   ]
  },
  {
   "cell_type": "code",
   "execution_count": 63,
   "id": "fb37060d",
   "metadata": {},
   "outputs": [
    {
     "data": {
      "text/html": [
       "<div>\n",
       "<style scoped>\n",
       "    .dataframe tbody tr th:only-of-type {\n",
       "        vertical-align: middle;\n",
       "    }\n",
       "\n",
       "    .dataframe tbody tr th {\n",
       "        vertical-align: top;\n",
       "    }\n",
       "\n",
       "    .dataframe thead th {\n",
       "        text-align: right;\n",
       "    }\n",
       "</style>\n",
       "<table border=\"1\" class=\"dataframe\">\n",
       "  <thead>\n",
       "    <tr style=\"text-align: right;\">\n",
       "      <th></th>\n",
       "      <th>id</th>\n",
       "      <th>bedrooms</th>\n",
       "      <th>host_response_rate</th>\n",
       "      <th>host_acceptance_rate</th>\n",
       "      <th>host_listings_count</th>\n",
       "      <th>minimum_nights</th>\n",
       "      <th>maximum_nights</th>\n",
       "      <th>availability_365</th>\n",
       "      <th>number_of_reviews_ltm</th>\n",
       "      <th>price</th>\n",
       "      <th>review_scores_rating</th>\n",
       "    </tr>\n",
       "  </thead>\n",
       "  <tbody>\n",
       "    <tr>\n",
       "      <th>0</th>\n",
       "      <td>2595</td>\n",
       "      <td>NaN</td>\n",
       "      <td>80%</td>\n",
       "      <td>17%</td>\n",
       "      <td>8.0</td>\n",
       "      <td>30</td>\n",
       "      <td>1125</td>\n",
       "      <td>338</td>\n",
       "      <td>0</td>\n",
       "      <td>$150.00</td>\n",
       "      <td>4.70</td>\n",
       "    </tr>\n",
       "    <tr>\n",
       "      <th>1</th>\n",
       "      <td>3831</td>\n",
       "      <td>1.0</td>\n",
       "      <td>9%</td>\n",
       "      <td>69%</td>\n",
       "      <td>1.0</td>\n",
       "      <td>1</td>\n",
       "      <td>730</td>\n",
       "      <td>194</td>\n",
       "      <td>32</td>\n",
       "      <td>$75.00</td>\n",
       "      <td>4.45</td>\n",
       "    </tr>\n",
       "    <tr>\n",
       "      <th>2</th>\n",
       "      <td>5121</td>\n",
       "      <td>1.0</td>\n",
       "      <td>100%</td>\n",
       "      <td>100%</td>\n",
       "      <td>1.0</td>\n",
       "      <td>30</td>\n",
       "      <td>730</td>\n",
       "      <td>365</td>\n",
       "      <td>0</td>\n",
       "      <td>$60.00</td>\n",
       "      <td>4.52</td>\n",
       "    </tr>\n",
       "    <tr>\n",
       "      <th>3</th>\n",
       "      <td>5136</td>\n",
       "      <td>2.0</td>\n",
       "      <td>100%</td>\n",
       "      <td>25%</td>\n",
       "      <td>1.0</td>\n",
       "      <td>5</td>\n",
       "      <td>1125</td>\n",
       "      <td>123</td>\n",
       "      <td>1</td>\n",
       "      <td>$275.00</td>\n",
       "      <td>5.00</td>\n",
       "    </tr>\n",
       "    <tr>\n",
       "      <th>4</th>\n",
       "      <td>5178</td>\n",
       "      <td>1.0</td>\n",
       "      <td>100%</td>\n",
       "      <td>100%</td>\n",
       "      <td>1.0</td>\n",
       "      <td>2</td>\n",
       "      <td>14</td>\n",
       "      <td>192</td>\n",
       "      <td>33</td>\n",
       "      <td>$68.00</td>\n",
       "      <td>4.21</td>\n",
       "    </tr>\n",
       "  </tbody>\n",
       "</table>\n",
       "</div>"
      ],
      "text/plain": [
       "     id  bedrooms host_response_rate host_acceptance_rate  \\\n",
       "0  2595       NaN                80%                  17%   \n",
       "1  3831       1.0                 9%                  69%   \n",
       "2  5121       1.0               100%                 100%   \n",
       "3  5136       2.0               100%                  25%   \n",
       "4  5178       1.0               100%                 100%   \n",
       "\n",
       "   host_listings_count  minimum_nights  maximum_nights  availability_365  \\\n",
       "0                  8.0              30            1125               338   \n",
       "1                  1.0               1             730               194   \n",
       "2                  1.0              30             730               365   \n",
       "3                  1.0               5            1125               123   \n",
       "4                  1.0               2              14               192   \n",
       "\n",
       "   number_of_reviews_ltm    price  review_scores_rating  \n",
       "0                      0  $150.00                  4.70  \n",
       "1                     32   $75.00                  4.45  \n",
       "2                      0   $60.00                  4.52  \n",
       "3                      1  $275.00                  5.00  \n",
       "4                     33   $68.00                  4.21  "
      ]
     },
     "execution_count": 63,
     "metadata": {},
     "output_type": "execute_result"
    }
   ],
   "source": [
    "additional.head()"
   ]
  },
  {
   "cell_type": "code",
   "execution_count": 64,
   "id": "e944547d",
   "metadata": {},
   "outputs": [],
   "source": [
    "# Preprocess these additional features to all numerical values\n",
    "additional.loc[:, 'host_response_rate'] = additional['host_response_rate'].str.rstrip('%').astype(float) / 100\n",
    "additional.loc[:, 'host_acceptance_rate'] = additional['host_acceptance_rate'].str.rstrip('%').astype(float) / 100\n",
    "additional.loc[:, 'price'] = additional['price'].str.replace('$', '').str.replace('.', '').str.replace(',', '').astype(float)"
   ]
  },
  {
   "cell_type": "code",
   "execution_count": 65,
   "id": "a62d4b25",
   "metadata": {},
   "outputs": [],
   "source": [
    "additional = pd.merge(merged_df['id'], additional, on='id', how='inner')"
   ]
  },
  {
   "cell_type": "code",
   "execution_count": 67,
   "id": "a34ef82f",
   "metadata": {},
   "outputs": [],
   "source": [
    "# Concatenate the numerical features with tdidf matrix\n",
    "final_df = pd.concat([additional, tfidf_df], axis=1)"
   ]
  },
  {
   "cell_type": "code",
   "execution_count": 68,
   "id": "f18a8021",
   "metadata": {},
   "outputs": [
    {
     "data": {
      "text/plain": [
       "(558, 59971)"
      ]
     },
     "execution_count": 68,
     "metadata": {},
     "output_type": "execute_result"
    }
   ],
   "source": [
    "final_df.shape"
   ]
  },
  {
   "cell_type": "code",
   "execution_count": 69,
   "id": "0e87bd44",
   "metadata": {},
   "outputs": [],
   "source": [
    "final_df.dropna(inplace = True)"
   ]
  },
  {
   "cell_type": "markdown",
   "id": "e50a8955",
   "metadata": {},
   "source": [
    "### K-means clustering"
   ]
  },
  {
   "cell_type": "code",
   "execution_count": 70,
   "id": "613c4539",
   "metadata": {},
   "outputs": [],
   "source": [
    "# K-means clustering\n",
    "num_clusters = 2  # Specify the number of clusters\n",
    "kmeans = KMeans(n_clusters=num_clusters, random_state=42)\n",
    "kmeans.fit(final_df)\n",
    "\n",
    "# Get cluster labels\n",
    "cluster_labels = kmeans.labels_"
   ]
  },
  {
   "cell_type": "code",
   "execution_count": 71,
   "id": "a379d31c",
   "metadata": {},
   "outputs": [],
   "source": [
    "true_labels = host_desc[['id','host_is_superhost']]\n",
    "true_labels = pd.merge(final_df, true_labels, on='id', how='inner')\n",
    "true_labels = true_labels['host_is_superhost'].tolist()"
   ]
  },
  {
   "cell_type": "code",
   "execution_count": 72,
   "id": "35bd0551",
   "metadata": {},
   "outputs": [],
   "source": [
    "comparison_df = pd.DataFrame({\n",
    "    'ID': final_df['id'],  # Assuming the ID is the DataFrame index\n",
    "    'True_Label': true_labels,\n",
    "    'Cluster_Label': cluster_labels\n",
    "})"
   ]
  },
  {
   "cell_type": "code",
   "execution_count": 73,
   "id": "e7defe40",
   "metadata": {},
   "outputs": [
    {
     "data": {
      "text/html": [
       "<div>\n",
       "<style scoped>\n",
       "    .dataframe tbody tr th:only-of-type {\n",
       "        vertical-align: middle;\n",
       "    }\n",
       "\n",
       "    .dataframe tbody tr th {\n",
       "        vertical-align: top;\n",
       "    }\n",
       "\n",
       "    .dataframe thead th {\n",
       "        text-align: right;\n",
       "    }\n",
       "</style>\n",
       "<table border=\"1\" class=\"dataframe\">\n",
       "  <thead>\n",
       "    <tr style=\"text-align: right;\">\n",
       "      <th></th>\n",
       "      <th>ID</th>\n",
       "      <th>True_Label</th>\n",
       "      <th>Cluster_Label</th>\n",
       "    </tr>\n",
       "  </thead>\n",
       "  <tbody>\n",
       "    <tr>\n",
       "      <th>1</th>\n",
       "      <td>3831</td>\n",
       "      <td>f</td>\n",
       "      <td>0</td>\n",
       "    </tr>\n",
       "    <tr>\n",
       "      <th>2</th>\n",
       "      <td>5178</td>\n",
       "      <td>f</td>\n",
       "      <td>0</td>\n",
       "    </tr>\n",
       "    <tr>\n",
       "      <th>4</th>\n",
       "      <td>5803</td>\n",
       "      <td>t</td>\n",
       "      <td>0</td>\n",
       "    </tr>\n",
       "    <tr>\n",
       "      <th>5</th>\n",
       "      <td>6990</td>\n",
       "      <td>f</td>\n",
       "      <td>0</td>\n",
       "    </tr>\n",
       "    <tr>\n",
       "      <th>6</th>\n",
       "      <td>7064</td>\n",
       "      <td>f</td>\n",
       "      <td>0</td>\n",
       "    </tr>\n",
       "  </tbody>\n",
       "</table>\n",
       "</div>"
      ],
      "text/plain": [
       "     ID True_Label  Cluster_Label\n",
       "1  3831          f              0\n",
       "2  5178          f              0\n",
       "4  5803          t              0\n",
       "5  6990          f              0\n",
       "6  7064          f              0"
      ]
     },
     "execution_count": 73,
     "metadata": {},
     "output_type": "execute_result"
    }
   ],
   "source": [
    "comparison_df.head()"
   ]
  },
  {
   "cell_type": "code",
   "execution_count": 74,
   "id": "6292f5d8",
   "metadata": {},
   "outputs": [
    {
     "name": "stdout",
     "output_type": "stream",
     "text": [
      "True_Label      0   1\n",
      "Cluster_Label        \n",
      "0              96  82\n",
      "1              83  65\n"
     ]
    }
   ],
   "source": [
    "# Confusion matrix\n",
    "\n",
    "comparison_df.loc[comparison_df['True_Label'] == 't', 'True_Label'] = 1\n",
    "comparison_df.loc[comparison_df['True_Label'] == 'f', 'True_Label'] = 0\n",
    "\n",
    "confusion = pd.crosstab(comparison_df['Cluster_Label'], comparison_df['True_Label'])\n",
    "print(confusion)"
   ]
  },
  {
   "cell_type": "code",
   "execution_count": 75,
   "id": "a15459e6",
   "metadata": {},
   "outputs": [
    {
     "name": "stdout",
     "output_type": "stream",
     "text": [
      "Accuracy: 0.494\n",
      "Precision: 0.439\n",
      "Recall: 0.442\n",
      "F1-score: 0.441\n"
     ]
    }
   ],
   "source": [
    "# Calculate accuracy\n",
    "correct_predictions = (comparison_df['True_Label'] == comparison_df['Cluster_Label']).sum()\n",
    "total_predictions = len(comparison_df)\n",
    "accuracy = correct_predictions / total_predictions\n",
    "\n",
    "# Calculate recall\n",
    "true_positives = ((comparison_df['True_Label'] == 1) & (comparison_df['Cluster_Label'] == 1)).sum()\n",
    "actual_positives = (comparison_df['True_Label'] == 1).sum()\n",
    "recall = true_positives / actual_positives\n",
    "\n",
    "# Calculate precision\n",
    "true_positives = ((comparison_df['True_Label'] == 1) & (comparison_df['Cluster_Label'] == 1)).sum()\n",
    "predicted_positives = (comparison_df['Cluster_Label'] == 1).sum()\n",
    "precision = true_positives / predicted_positives\n",
    "\n",
    "# Calculate F1-score\n",
    "precision = true_positives / predicted_positives\n",
    "recall = true_positives / actual_positives\n",
    "f1_score = 2 * (precision * recall) / (precision + recall)\n",
    "\n",
    "# Print the evaluation metrics\n",
    "print(f\"Accuracy: {accuracy:.3f}\")\n",
    "print(f\"Precision: {precision:.3f}\")\n",
    "print(f\"Recall: {recall:.3f}\")\n",
    "print(f\"F1-score: {f1_score:.3f}\")"
   ]
  },
  {
   "cell_type": "markdown",
   "id": "b6bda61b",
   "metadata": {},
   "source": [
    "### Trying Naive Bayes on TDIDF matrix"
   ]
  },
  {
   "cell_type": "code",
   "execution_count": 98,
   "id": "9999a64d",
   "metadata": {},
   "outputs": [
    {
     "name": "stdout",
     "output_type": "stream",
     "text": [
      "Accuracy: 0.6060606060606061\n",
      "Precision: 0.6129032258064516\n",
      "Recall: 0.5757575757575758\n",
      "F1-score: 0.59375\n"
     ]
    }
   ],
   "source": [
    "from sklearn.naive_bayes import MultinomialNB\n",
    "from sklearn.model_selection import train_test_split\n",
    "from sklearn.metrics import accuracy_score, precision_score, recall_score, f1_score\n",
    "\n",
    "\n",
    "X = final_df\n",
    "y = true_labels\n",
    "\n",
    "# Split the data into training and testing sets\n",
    "X_train, X_test, y_train, y_test = train_test_split(X, y, test_size=0.2, random_state=42)\n",
    "\n",
    "nb_classifier = MultinomialNB()\n",
    "nb_classifier.fit(X_train, y_train)\n",
    "\n",
    "# Make predictions on the test set\n",
    "y_pred = nb_classifier.predict(X_test)\n",
    "\n",
    "label_map = {'f': 0, 't': 1}\n",
    "y_test_mapped = [label_map[label] for label in y_test]\n",
    "y_pred_mapped = [label_map[label] for label in y_pred]\n",
    "\n",
    "# Evaluate the performance of the classifier\n",
    "accuracy = accuracy_score(y_test_mapped, y_pred_mapped)\n",
    "precision = precision_score(y_test_mapped, y_pred_mapped)\n",
    "recall = recall_score(y_test_mapped, y_pred_mapped)\n",
    "f1 = f1_score(y_test_mapped, y_pred_mapped)\n",
    "\n",
    "print(\"Accuracy:\", accuracy)\n",
    "print(\"Precision:\", precision)\n",
    "print(\"Recall:\", recall)\n",
    "print(\"F1-score:\", f1)\n"
   ]
  },
  {
   "cell_type": "markdown",
   "id": "f89011e6",
   "metadata": {},
   "source": [
    "### Logistic Regression"
   ]
  },
  {
   "cell_type": "code",
   "execution_count": 104,
   "id": "5a8ff353",
   "metadata": {},
   "outputs": [
    {
     "name": "stdout",
     "output_type": "stream",
     "text": [
      "Accuracy: 0.696969696969697\n",
      "Precision: 0.8823529411764706\n",
      "Recall: 0.45454545454545453\n",
      "F1-score: 0.6\n"
     ]
    }
   ],
   "source": [
    "#logistic regression\n",
    "from sklearn.linear_model import LogisticRegression\n",
    "\n",
    "logreg = LogisticRegression(penalty='l1',solver='liblinear')\n",
    "logreg.fit(X_train, y_train)\n",
    "y_pred = logreg.predict(X_test)\n",
    "\n",
    "\n",
    "label_map = {'f': 0, 't': 1}\n",
    "y_test_mapped = [label_map[label] for label in y_test]\n",
    "y_pred_mapped = [label_map[label] for label in y_pred]\n",
    "\n",
    "# Evaluate the performance of the classifier\n",
    "accuracy = accuracy_score(y_test_mapped, y_pred_mapped)\n",
    "precision = precision_score(y_test_mapped, y_pred_mapped)\n",
    "recall = recall_score(y_test_mapped, y_pred_mapped)\n",
    "f1 = f1_score(y_test_mapped, y_pred_mapped)\n",
    "\n",
    "# Print the evaluation metrics\n",
    "print(\"Accuracy:\", accuracy)\n",
    "print(\"Precision:\", precision)\n",
    "print(\"Recall:\", recall)\n",
    "print(\"F1-score:\", f1)"
   ]
  },
  {
   "cell_type": "markdown",
   "id": "f95dc9a9",
   "metadata": {},
   "source": [
    "### Random Forest"
   ]
  },
  {
   "cell_type": "code",
   "execution_count": 78,
   "id": "314a1550",
   "metadata": {},
   "outputs": [
    {
     "name": "stdout",
     "output_type": "stream",
     "text": [
      "Accuracy: 0.6060606060606061\n",
      "Precision: 0.8181818181818182\n",
      "Recall: 0.2727272727272727\n",
      "F1-score: 0.4090909090909091\n"
     ]
    }
   ],
   "source": [
    "from sklearn.ensemble import RandomForestClassifier\n",
    "\n",
    "rf_classifier = RandomForestClassifier(n_estimators=500, random_state=42)\n",
    "rf_classifier.fit(X_train, y_train)\n",
    "\n",
    "y_pred = rf_classifier.predict(X_test)\n",
    "\n",
    "\n",
    "label_map = {'f': 0, 't': 1}\n",
    "y_test_mapped = [label_map[label] for label in y_test]\n",
    "y_pred_mapped = [label_map[label] for label in y_pred]\n",
    "\n",
    "\n",
    "accuracy = accuracy_score(y_test_mapped, y_pred_mapped)\n",
    "precision = precision_score(y_test_mapped, y_pred_mapped)\n",
    "recall = recall_score(y_test_mapped, y_pred_mapped)\n",
    "f1 = f1_score(y_test_mapped, y_pred_mapped)\n",
    "\n",
    "# Print the evaluation metrics\n",
    "print(\"Accuracy:\", accuracy)\n",
    "print(\"Precision:\", precision)\n",
    "print(\"Recall:\", recall)\n",
    "print(\"F1-score:\", f1)"
   ]
  },
  {
   "cell_type": "markdown",
   "id": "c2d872f7",
   "metadata": {},
   "source": [
    "### Word2Vec"
   ]
  },
  {
   "cell_type": "code",
   "execution_count": 79,
   "id": "fe4f1f54",
   "metadata": {},
   "outputs": [],
   "source": [
    "from gensim.models import Word2Vec"
   ]
  },
  {
   "cell_type": "code",
   "execution_count": 80,
   "id": "018c1e89",
   "metadata": {},
   "outputs": [],
   "source": [
    "documents = merged_df['text']\n",
    "tokenized_docs = [doc.split() for doc in documents]"
   ]
  },
  {
   "cell_type": "code",
   "execution_count": 83,
   "id": "6ae0056a",
   "metadata": {},
   "outputs": [],
   "source": [
    "embedding_size = 100  \n",
    "word2vec_model = Word2Vec(sentences=tokenized_docs, min_count=3,vector_size = 100, window = 5)\n",
    "\n",
    "#size: number of dimensions of the embeddings, default is 100.\n",
    "#window: The maximum distance between a target word and words around the target word, default window is 5.\n",
    "#min_count: The minimum count of words to consider when training the model; words with occurrence less than this count will be ignored. The default for min_count is 5.\n",
    "#workers: The number of partitions during training and the default workers is 3.\n",
    "#sg: The training algorithm, either CBOW(0) or skip gram(1). The default training algorithm is CBOW.\n",
    "\n"
   ]
  },
  {
   "cell_type": "code",
   "execution_count": 84,
   "id": "48abda1c",
   "metadata": {},
   "outputs": [],
   "source": [
    "X = []\n",
    "for doc in tokenized_docs:\n",
    "    doc_embedding = [word2vec_model.wv[word] for word in doc if word in word2vec_model.wv]\n",
    "    if doc_embedding:\n",
    "        doc_avg_embedding = sum(doc_embedding) / len(doc_embedding)  # Averaging word embeddings\n",
    "        X.append(doc_avg_embedding)\n",
    "    else:\n",
    "        X.append([0] * embedding_size)"
   ]
  },
  {
   "cell_type": "code",
   "execution_count": 85,
   "id": "53f59d31",
   "metadata": {},
   "outputs": [],
   "source": [
    "y = merged_df['host_is_superhost']\n",
    "X_train, X_test, y_train, y_test = train_test_split(X, y, test_size=0.2, random_state=42)"
   ]
  },
  {
   "cell_type": "markdown",
   "id": "aa2c9683",
   "metadata": {},
   "source": [
    "### Logistic Regression"
   ]
  },
  {
   "cell_type": "code",
   "execution_count": 86,
   "id": "67c690f7",
   "metadata": {},
   "outputs": [
    {
     "name": "stdout",
     "output_type": "stream",
     "text": [
      "Accuracy: 0.7142857142857143\n",
      "Precision: 0.6666666666666666\n",
      "Recall: 0.2702702702702703\n",
      "F1-score: 0.3846153846153846\n"
     ]
    }
   ],
   "source": [
    "classifier = LogisticRegression()\n",
    "classifier.fit(X_train, y_train)\n",
    "\n",
    "\n",
    "y_pred = classifier.predict(X_test)\n",
    "\n",
    "# Map the label values in y_test and y_pred\n",
    "label_map = {'f': 0, 't': 1}\n",
    "y_test_mapped = [label_map[label] for label in y_test]\n",
    "y_pred_mapped = [label_map[label] for label in y_pred]\n",
    "\n",
    "# Evaluate the performance of the classifier\n",
    "accuracy = accuracy_score(y_test_mapped, y_pred_mapped)\n",
    "precision = precision_score(y_test_mapped, y_pred_mapped)\n",
    "recall = recall_score(y_test_mapped, y_pred_mapped)\n",
    "f1 = f1_score(y_test_mapped, y_pred_mapped)\n",
    "\n",
    "# Print the evaluation metrics\n",
    "print(\"Accuracy:\", accuracy)\n",
    "print(\"Precision:\", precision)\n",
    "print(\"Recall:\", recall)\n",
    "print(\"F1-score:\", f1)"
   ]
  },
  {
   "cell_type": "markdown",
   "id": "b6971538",
   "metadata": {},
   "source": [
    "### Random Forest"
   ]
  },
  {
   "cell_type": "code",
   "execution_count": 88,
   "id": "a0dea9a9",
   "metadata": {},
   "outputs": [
    {
     "name": "stdout",
     "output_type": "stream",
     "text": [
      "Accuracy: 0.6875\n",
      "Precision: 0.55\n",
      "Recall: 0.2972972972972973\n",
      "F1-score: 0.38596491228070173\n"
     ]
    }
   ],
   "source": [
    "from sklearn.ensemble import RandomForestClassifier\n",
    "\n",
    "rf_classifier = RandomForestClassifier(n_estimators=200, random_state=42)\n",
    "rf_classifier.fit(X_train, y_train)\n",
    "\n",
    "y_pred = rf_classifier.predict(X_test)\n",
    "\n",
    "\n",
    "label_map = {'f': 0, 't': 1}\n",
    "y_test_mapped = [label_map[label] for label in y_test]\n",
    "y_pred_mapped = [label_map[label] for label in y_pred]\n",
    "\n",
    "\n",
    "accuracy = accuracy_score(y_test_mapped, y_pred_mapped)\n",
    "precision = precision_score(y_test_mapped, y_pred_mapped)\n",
    "recall = recall_score(y_test_mapped, y_pred_mapped)\n",
    "f1 = f1_score(y_test_mapped, y_pred_mapped)\n",
    "\n",
    "# Print the evaluation metrics\n",
    "print(\"Accuracy:\", accuracy)\n",
    "print(\"Precision:\", precision)\n",
    "print(\"Recall:\", recall)\n",
    "print(\"F1-score:\", f1)"
   ]
  },
  {
   "cell_type": "code",
   "execution_count": null,
   "id": "100d5752",
   "metadata": {},
   "outputs": [],
   "source": []
  }
 ],
 "metadata": {
  "kernelspec": {
   "display_name": "Python 3 (ipykernel)",
   "language": "python",
   "name": "python3"
  },
  "language_info": {
   "codemirror_mode": {
    "name": "ipython",
    "version": 3
   },
   "file_extension": ".py",
   "mimetype": "text/x-python",
   "name": "python",
   "nbconvert_exporter": "python",
   "pygments_lexer": "ipython3",
   "version": "3.9.7"
  }
 },
 "nbformat": 4,
 "nbformat_minor": 5
}
